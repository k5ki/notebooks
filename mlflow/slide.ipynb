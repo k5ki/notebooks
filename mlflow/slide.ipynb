{
 "cells": [
  {
   "cell_type": "code",
   "execution_count": null,
   "metadata": {},
   "outputs": [],
   "source": [
    "import pandas as pd\n",
    "import seaborn as sns"
   ]
  },
  {
   "cell_type": "code",
   "execution_count": null,
   "metadata": {},
   "outputs": [],
   "source": [
    "df = sns.load_dataset(\"diamonds\")\n",
    "df.head()"
   ]
  },
  {
   "cell_type": "code",
   "execution_count": null,
   "metadata": {},
   "outputs": [],
   "source": [
    "df.isnull().sum()"
   ]
  },
  {
   "cell_type": "code",
   "execution_count": null,
   "metadata": {},
   "outputs": [],
   "source": [
    "print(df[\"cut\"].unique())\n",
    "print(df[\"color\"].unique())\n",
    "print(df[\"clarity\"].unique())"
   ]
  },
  {
   "cell_type": "code",
   "execution_count": null,
   "metadata": {},
   "outputs": [],
   "source": [
    "df[[\"carat\", \"depth\", \"table\", \"price\", \"x\", \"y\", \"x\"]].describe()"
   ]
  },
  {
   "cell_type": "code",
   "execution_count": null,
   "metadata": {},
   "outputs": [],
   "source": [
    "df[[\"cut\", \"color\", \"clarity\"]].describe()"
   ]
  },
  {
   "cell_type": "code",
   "execution_count": null,
   "metadata": {},
   "outputs": [],
   "source": [
    "sns.pairplot(df.drop(columns=[\"color\", \"clarity\"]).sample(frac=1).reset_index(drop=True)[:1000], hue=\"cut\")"
   ]
  },
  {
   "cell_type": "code",
   "execution_count": null,
   "metadata": {},
   "outputs": [],
   "source": [
    "from sklearn.model_selection import train_test_split\n",
    "\n",
    "X_train, X_test, y_train, y_test = train_test_split(\n",
    "    df.drop(columns=[\"price\"]), df[\"price\"], test_size=0.3, random_state=1)"
   ]
  },
  {
   "cell_type": "code",
   "execution_count": null,
   "metadata": {},
   "outputs": [],
   "source": [
    "import os\n",
    "from dotenv import load_dotenv\n",
    "from sklearn.ensemble import RandomForestRegressor, StackingRegressor\n",
    "from sklearn.preprocessing import OrdinalEncoder\n",
    "from sklearn.compose import ColumnTransformer\n",
    "from sklearn.pipeline import Pipeline\n",
    "from sklearn.linear_model import ElasticNet\n",
    "import mlflow\n",
    "\n",
    "load_dotenv()\n",
    "mlflow.set_tracking_uri(os.environ[\"MLFLOW_TRACKING_URI\"])\n",
    "mlflow.autolog()\n",
    "\n",
    "ord_encoder = OrdinalEncoder(categories=[\n",
    "    [\"Fair\", \"Good\", \"Very Good\", \"Premium\", \"Ideal\"],\n",
    "    [\"J\", \"I\", \"H\", \"G\", \"F\", \"E\", \"D\"],\n",
    "    [\"I1\", \"SI2\", \"SI1\", \"VS2\", \"VS1\", \"VVS2\", \"VVS1\", \"IF\"],\n",
    "])\n",
    "\n",
    "preprocessor = ColumnTransformer(\n",
    "    transformers=[(\"ord\", ord_encoder, [\"cut\", \"color\", \"clarity\"])],\n",
    "    remainder=\"passthrough\",\n",
    ")\n",
    "\n",
    "regressor = StackingRegressor([\n",
    "    (\"elastic_net\", ElasticNet(alpha=0.05, random_state=1)),\n",
    "    #(\"random_forest\", RandomForestRegressor(n_estimators=10, random_state=1)),\n",
    "])\n",
    "\n",
    "pipe = Pipeline(steps=[\n",
    "    (\"preprocessor\", preprocessor),\n",
    "    (\"regressor\", regressor),\n",
    "])\n",
    "\n",
    "from sklearn import set_config\n",
    "set_config(display='diagram')   \n",
    "pipe"
   ]
  },
  {
   "cell_type": "code",
   "execution_count": null,
   "metadata": {},
   "outputs": [],
   "source": [
    "set_config(display=None)"
   ]
  },
  {
   "cell_type": "code",
   "execution_count": null,
   "metadata": {},
   "outputs": [],
   "source": [
    "with mlflow.start_run(run_name='example') as run:\n",
    "    pipe.fit(X_train, y_train)\n",
    "\n",
    "pred = pipe.predict(X_test)"
   ]
  },
  {
   "cell_type": "code",
   "execution_count": null,
   "metadata": {},
   "outputs": [],
   "source": [
    "import matplotlib.pyplot as plt\n",
    "\n",
    "plt.xlabel(\"pred\")\n",
    "plt.ylabel(\"y_test\")\n",
    "plt.scatter(pred, y_test)\n",
    "\n",
    "plt.show()"
   ]
  },
  {
   "cell_type": "code",
   "execution_count": null,
   "metadata": {},
   "outputs": [],
   "source": [
    "run = mlflow.search_runs(order_by=[\"start_time desc\"], max_results=1).iloc[0]\n",
    "mlflow.register_model(model_uri=f\"runs:/{run.run_id}/model\", name=\"diamonds_price_pred\")"
   ]
  },
  {
   "cell_type": "code",
   "execution_count": null,
   "metadata": {},
   "outputs": [],
   "source": [
    "model = mlflow.sklearn.load_model(f\"models:/diamonds_price_pred/latest\")\n",
    "\n",
    "idx = 100\n",
    "pred = model.predict(X_test[idx:idx+1])\n",
    "ans = y_test[idx:idx+1].values\n",
    "print(f\"pred: {pred}, ans: {ans}\")"
   ]
  }
 ],
 "metadata": {
  "kernelspec": {
   "display_name": ".venv",
   "language": "python",
   "name": "python3"
  },
  "language_info": {
   "codemirror_mode": {
    "name": "ipython",
    "version": 3
   },
   "file_extension": ".py",
   "mimetype": "text/x-python",
   "name": "python",
   "nbconvert_exporter": "python",
   "pygments_lexer": "ipython3",
   "version": "3.11.11"
  }
 },
 "nbformat": 4,
 "nbformat_minor": 2
}
